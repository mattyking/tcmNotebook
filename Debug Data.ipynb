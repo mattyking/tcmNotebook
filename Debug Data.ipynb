{
 "cells": [
  {
   "cell_type": "code",
   "execution_count": null,
   "metadata": {},
   "outputs": [],
   "source": [
    "# Need to double check the appointment times\n",
    "# Comb through daily openings a couple days out, and confirm whether there\n",
    "# are overlapping shifts"
   ]
  },
  {
   "cell_type": "code",
   "execution_count": 2,
   "metadata": {},
   "outputs": [],
   "source": [
    "# Loading libraries\n",
    "import boto3\n",
    "import pandas as pd\n",
    "from io import StringIO\n",
    "from math import floor\n",
    "import matplotlib.pyplot as plt"
   ]
  },
  {
   "cell_type": "code",
   "execution_count": 3,
   "metadata": {},
   "outputs": [],
   "source": [
    "# Defining paths\n",
    "myBucket = 'tcmbooking'"
   ]
  },
  {
   "cell_type": "code",
   "execution_count": 4,
   "metadata": {},
   "outputs": [],
   "source": [
    "# Function which returns lists of errors, openings and shifts in s3 bucket\n",
    "def get_tcm_files(bucket):\n",
    "    \"\"\"Get a list of keys in an S3 bucket\"\"\"\n",
    "    errors = []\n",
    "    openings = []\n",
    "    shifts = []\n",
    "    \n",
    "    resp = s3.list_objects_v2(Bucket=bucket)\n",
    "    for x in resp['Contents']:\n",
    "        if \"error\" in x['Key']:\n",
    "            errors.append(x['Key'])\n",
    "        elif \"openings\" in x['Key']:\n",
    "            openings.append(x['Key'])\n",
    "        elif \"shifts\" in x['Key']:\n",
    "            shifts.append(x['Key'])\n",
    "        \n",
    "    return errors, openings, shifts"
   ]
  },
  {
   "cell_type": "code",
   "execution_count": 5,
   "metadata": {},
   "outputs": [],
   "source": [
    "# Getting list of files in s3 bucket\n",
    "s3 = boto3.client('s3')\n",
    "errors, openings, shifts = get_tcm_files(myBucket)"
   ]
  },
  {
   "cell_type": "code",
   "execution_count": 142,
   "metadata": {},
   "outputs": [],
   "source": [
    "# Creating data frame of the openings\n",
    "dailyOpenings = pd.DataFrame()\n",
    "\n",
    "for x in openings:\n",
    "    # Reading in data from s3\n",
    "    csv_obj = s3.get_object(Bucket=myBucket, Key=x)\n",
    "    body = csv_obj['Body']\n",
    "    csv_string = body.read().decode('utf-8')\n",
    "    df = pd.read_csv(StringIO(csv_string))\n",
    "    \n",
    "    # Selecting only same day data\n",
    "    df = df.loc[df['DaysAhead']==0]\n",
    "    dailyOpenings = dailyOpenings.append(df, ignore_index=True)\n",
    "    \n",
    "dailyOpenings.drop_duplicates(inplace=True)"
   ]
  },
  {
   "cell_type": "code",
   "execution_count": 143,
   "metadata": {},
   "outputs": [],
   "source": [
    "# Creating data frame of the shifts\n",
    "dailyShifts = pd.DataFrame()\n",
    "\n",
    "for x in shifts:\n",
    "    # Reading in data from s3\n",
    "    csv_obj = s3.get_object(Bucket=myBucket, Key=x)\n",
    "    body = csv_obj['Body']\n",
    "    csv_string = body.read().decode('utf-8')\n",
    "    df = pd.read_csv(StringIO(csv_string))\n",
    "    \n",
    "    # Selecting only same day data\n",
    "    df = df.loc[df['DaysAhead']==0]\n",
    "    dailyShifts = dailyShifts.append(df, ignore_index=True)\n",
    "    \n",
    "dailyShifts.drop_duplicates(inplace=True)"
   ]
  },
  {
   "cell_type": "code",
   "execution_count": 144,
   "metadata": {},
   "outputs": [],
   "source": [
    "# Getting the opening time\n",
    "dailyShifts['StartH'] = dailyShifts['Start'].str[:2]\n",
    "dailyShifts['StartM'] = dailyShifts['Start'].str[3:]\n",
    "dailyShifts['StartH'] = dailyShifts.StartH.astype(float)\n",
    "dailyShifts['StartM'] = dailyShifts.StartM.astype(float)\n",
    "dailyShifts['StartM'] = dailyShifts['StartM'] / 60\n",
    "dailyShifts['Open']  = dailyShifts['StartH'] + dailyShifts['StartM']\n",
    "dailyShifts = dailyShifts.drop(['StartH', 'StartM'], axis = 1)"
   ]
  },
  {
   "cell_type": "code",
   "execution_count": 145,
   "metadata": {},
   "outputs": [],
   "source": [
    "# Getting the closing time\n",
    "dailyShifts['CloseH'] = dailyShifts['End'].str[:2]\n",
    "dailyShifts['CloseM'] = dailyShifts['End'].str[3:]\n",
    "dailyShifts['CloseH'] = dailyShifts.CloseH.astype(float)\n",
    "dailyShifts['CloseM'] = dailyShifts.CloseM.astype(float)\n",
    "dailyShifts['CloseM'] = dailyShifts['CloseM'] / 60\n",
    "dailyShifts['Close']  = dailyShifts['CloseH'] + dailyShifts['CloseM']\n",
    "dailyShifts = dailyShifts.drop(['CloseH', 'CloseM'], axis = 1)"
   ]
  },
  {
   "cell_type": "code",
   "execution_count": 146,
   "metadata": {},
   "outputs": [],
   "source": [
    "# Getting the open hours per day\n",
    "openHours = dailyShifts.groupby(['URL', 'Date'], as_index=False).agg({\"Open\":\"min\", \"Close\":\"max\"})\n",
    "openHours['maxHours'] = (openHours['Close'] - openHours['Open'])*60\n",
    "openHours = openHours.drop(['Open', 'Close'], axis = 1)"
   ]
  },
  {
   "cell_type": "code",
   "execution_count": 147,
   "metadata": {},
   "outputs": [
    {
     "name": "stdout",
     "output_type": "stream",
     "text": [
      "Number of rows pre-merge: 658\n",
      "Number of rows pre-merge: 658\n"
     ]
    }
   ],
   "source": [
    "# Joining max hours to the daily shifts data frame\n",
    "print('Number of rows pre-merge: ' + str(dailyShifts.shape[0]))\n",
    "dailyShifts = dailyShifts.merge(openHours, on = ['URL', 'Date'], how='left', right_index=False)\n",
    "print('Number of rows pre-merge: ' + str(dailyShifts.shape[0]))"
   ]
  },
  {
   "cell_type": "code",
   "execution_count": 148,
   "metadata": {},
   "outputs": [],
   "source": [
    "# Function to choose the shift duration to be used in future calculations\n",
    "def getHours(row):\n",
    "    if row['Duration'] > row['maxHours']:\n",
    "        val = row['maxHours']\n",
    "    else:\n",
    "        val = row['Duration']\n",
    "        \n",
    "    return val"
   ]
  },
  {
   "cell_type": "code",
   "execution_count": 149,
   "metadata": {},
   "outputs": [],
   "source": [
    "dailyShifts['WorkTime'] = dailyShifts.apply(getHours, axis = 1)"
   ]
  },
  {
   "cell_type": "code",
   "execution_count": 150,
   "metadata": {},
   "outputs": [],
   "source": [
    "# Aggregating shifts and openings\n",
    "shifts_agg = dailyShifts.groupby(['Clinician', 'Date'], as_index=False).agg({\"URL\": \"first\", \"WorkTime\": \"sum\"})\n",
    "openings_agg = dailyOpenings.groupby(['Clinician', 'Date'], as_index=False).agg({\"URL\": \"first\", \"Duration\": \"sum\", \"DaysAhead\": \"count\"})\n",
    "\n",
    "# Renaming columns to eliminate duplicates\n",
    "shifts_agg.columns = ['Clinician', 'Date', 'URL', 'ShiftTime']\n",
    "openings_agg.columns = ['Clinician', 'Date', 'URL', 'OpenTime', 'OpenSlots']"
   ]
  },
  {
   "cell_type": "code",
   "execution_count": 151,
   "metadata": {},
   "outputs": [
    {
     "name": "stdout",
     "output_type": "stream",
     "text": [
      "Number of rows pre-merge: 421\n",
      "Number of rows post-merge: 421\n"
     ]
    }
   ],
   "source": [
    "# Merging shifts and openings data frames\n",
    "print('Number of rows pre-merge: ' + str(shifts_agg.shape[0]))\n",
    "daily = shifts_agg.merge(openings_agg, on = ['Clinician', 'URL', 'Date'], how='left', right_index=False)\n",
    "daily['OpenTime'] = daily['OpenTime'].fillna(0)\n",
    "daily['OpenSlots'] = daily['OpenSlots'].fillna(0)\n",
    "print('Number of rows post-merge: ' + str(daily.shape[0]))"
   ]
  },
  {
   "cell_type": "code",
   "execution_count": 152,
   "metadata": {
    "scrolled": true
   },
   "outputs": [],
   "source": [
    "# Getting price data\n",
    "prices = pd.read_csv('/home/ubuntu/getTCM/jane_url.csv')\n",
    "prices.columns = ['Clinic', 'Clinician', 'URL', 'Location', 'Cost', 'ApTime', 'Area']\n",
    "prices['ApTime'] = prices['ApTime'].fillna(60)\n",
    "prices = prices.drop(['Clinician'], axis=1)"
   ]
  },
  {
   "cell_type": "code",
   "execution_count": 153,
   "metadata": {},
   "outputs": [
    {
     "name": "stdout",
     "output_type": "stream",
     "text": [
      "Number of rows post-merge:  421\n"
     ]
    }
   ],
   "source": [
    "# Joining data frames\n",
    "daily = daily.merge(prices, on = 'URL', how='left', right_index=False)\n",
    "daily.drop_duplicates(inplace=True)\n",
    "print('Number of rows post-merge: ', str(daily.shape[0]))"
   ]
  },
  {
   "cell_type": "code",
   "execution_count": 154,
   "metadata": {},
   "outputs": [
    {
     "name": "stdout",
     "output_type": "stream",
     "text": [
      "Number of rows post-merge:  421\n"
     ]
    }
   ],
   "source": [
    "# Joining data frames\n",
    "daily = daily.merge(openHours, on = ['URL', 'Date'], how='left', right_index=False)\n",
    "daily.drop_duplicates(inplace=True)\n",
    "print('Number of rows post-merge: ', str(daily.shape[0]))"
   ]
  },
  {
   "cell_type": "code",
   "execution_count": 155,
   "metadata": {
    "scrolled": true
   },
   "outputs": [],
   "source": [
    "daily['Duration'] = daily['ShiftTime']\n",
    "daily['ShiftTime'] = daily.apply(getHours, axis = 1)\n",
    "daily = daily.drop(['Duration', 'maxHours'], axis=1)"
   ]
  },
  {
   "cell_type": "code",
   "execution_count": 156,
   "metadata": {},
   "outputs": [],
   "source": [
    "# Estimating revenue\n",
    "daily['AllSlots'] = daily['ShiftTime'] / daily['ApTime']\n",
    "daily = daily.round({'Bookings': 0})\n",
    "\n",
    "daily['AllSlots'] = daily['ShiftTime'] / daily['ApTime']\n",
    "daily['AllSlots'] = daily.AllSlots.apply(floor)\n",
    "daily['BookedSlots'] = daily['AllSlots'] - daily['OpenSlots']\n",
    "daily['DailyRevenue'] = daily['BookedSlots'] * daily['Cost']"
   ]
  },
  {
   "cell_type": "code",
   "execution_count": 157,
   "metadata": {},
   "outputs": [],
   "source": [
    "# Calculating week number\n",
    "daily['Week'] = pd.to_datetime(daily['Date'])\n",
    "daily['Week'] = daily['Week'].dt.week"
   ]
  },
  {
   "cell_type": "code",
   "execution_count": 893,
   "metadata": {},
   "outputs": [
    {
     "name": "stdout",
     "output_type": "stream",
     "text": [
      "There are 61 clinicians\n"
     ]
    }
   ],
   "source": [
    "clinicians = dailyOpenings.Clinician.unique()\n",
    "print('There are ' + str(len(clinicians)) + ' clinicians')"
   ]
  },
  {
   "cell_type": "code",
   "execution_count": 1037,
   "metadata": {},
   "outputs": [
    {
     "name": "stdout",
     "output_type": "stream",
     "text": [
      "Showing 60 of 61 clinicians\n",
      "Showing 0 of 1 days\n"
     ]
    },
    {
     "data": {
      "text/html": [
       "<div>\n",
       "<style scoped>\n",
       "    .dataframe tbody tr th:only-of-type {\n",
       "        vertical-align: middle;\n",
       "    }\n",
       "\n",
       "    .dataframe tbody tr th {\n",
       "        vertical-align: top;\n",
       "    }\n",
       "\n",
       "    .dataframe thead th {\n",
       "        text-align: right;\n",
       "    }\n",
       "</style>\n",
       "<table border=\"1\" class=\"dataframe\">\n",
       "  <thead>\n",
       "    <tr style=\"text-align: right;\">\n",
       "      <th></th>\n",
       "      <th>Clinician</th>\n",
       "      <th>Date</th>\n",
       "      <th>URL</th>\n",
       "      <th>ShiftTime</th>\n",
       "      <th>OpenTime</th>\n",
       "      <th>OpenSlots</th>\n",
       "      <th>Clinic</th>\n",
       "      <th>Location</th>\n",
       "      <th>Cost</th>\n",
       "      <th>ApTime</th>\n",
       "      <th>Area</th>\n",
       "      <th>AllSlots</th>\n",
       "      <th>BookedSlots</th>\n",
       "      <th>DailyRevenue</th>\n",
       "      <th>Week</th>\n",
       "    </tr>\n",
       "  </thead>\n",
       "  <tbody>\n",
       "    <tr>\n",
       "      <th>7</th>\n",
       "      <td>Alyssa Huang</td>\n",
       "      <td>2019-03-08</td>\n",
       "      <td>https://elementswellness.janeapp.com/#/staff_member/4/treatment/5</td>\n",
       "      <td>570.0</td>\n",
       "      <td>300.0</td>\n",
       "      <td>5.0</td>\n",
       "      <td>Elements Wellness</td>\n",
       "      <td>1</td>\n",
       "      <td>95</td>\n",
       "      <td>60</td>\n",
       "      <td>Midtown</td>\n",
       "      <td>9</td>\n",
       "      <td>4.0</td>\n",
       "      <td>380.0</td>\n",
       "      <td>10</td>\n",
       "    </tr>\n",
       "  </tbody>\n",
       "</table>\n",
       "</div>"
      ],
      "text/plain": [
       "      Clinician        Date  \\\n",
       "7  Alyssa Huang  2019-03-08   \n",
       "\n",
       "                                                                 URL  \\\n",
       "7  https://elementswellness.janeapp.com/#/staff_member/4/treatment/5   \n",
       "\n",
       "   ShiftTime  OpenTime  OpenSlots             Clinic  Location  Cost  ApTime  \\\n",
       "7      570.0     300.0        5.0  Elements Wellness         1    95      60   \n",
       "\n",
       "      Area  AllSlots  BookedSlots  DailyRevenue  Week  \n",
       "7  Midtown         9          4.0         380.0    10  "
      ]
     },
     "execution_count": 1037,
     "metadata": {},
     "output_type": "execute_result"
    }
   ],
   "source": [
    "x = 60\n",
    "y = 0\n",
    "dailyX = daily[daily['Clinician']==clinicians[x]]\n",
    "days = dailyX.Date.unique()\n",
    "dailyX = dailyX[dailyX['Date']==days[y]]\n",
    "dailyOpenX = dailyOpenings[(dailyOpenings['Clinician']==clinicians[x]) &  (dailyOpenings['Date']==days[y])]\n",
    "dailyShiftX = dailyShifts[(dailyShifts['Clinician']==clinicians[x]) &  (dailyShifts['Date']==days[y])]\n",
    "print('Showing ' + str(x) + ' of ' + str(len(clinicians)) + ' clinicians')\n",
    "print('Showing ' + str(y) + ' of ' + str(len(dailyX)) + ' days')\n",
    "dailyX"
   ]
  },
  {
   "cell_type": "code",
   "execution_count": 1038,
   "metadata": {},
   "outputs": [
    {
     "data": {
      "text/html": [
       "<div>\n",
       "<style scoped>\n",
       "    .dataframe tbody tr th:only-of-type {\n",
       "        vertical-align: middle;\n",
       "    }\n",
       "\n",
       "    .dataframe tbody tr th {\n",
       "        vertical-align: top;\n",
       "    }\n",
       "\n",
       "    .dataframe thead th {\n",
       "        text-align: right;\n",
       "    }\n",
       "</style>\n",
       "<table border=\"1\" class=\"dataframe\">\n",
       "  <thead>\n",
       "    <tr style=\"text-align: right;\">\n",
       "      <th></th>\n",
       "      <th>Clinician</th>\n",
       "      <th>URL</th>\n",
       "      <th>Today</th>\n",
       "      <th>DayOfWeek</th>\n",
       "      <th>Date</th>\n",
       "      <th>Start</th>\n",
       "      <th>End</th>\n",
       "      <th>Duration</th>\n",
       "      <th>DaysAhead</th>\n",
       "      <th>Open</th>\n",
       "      <th>Close</th>\n",
       "      <th>maxHours</th>\n",
       "      <th>WorkTime</th>\n",
       "    </tr>\n",
       "  </thead>\n",
       "  <tbody>\n",
       "    <tr>\n",
       "      <th>307</th>\n",
       "      <td>Alyssa Huang</td>\n",
       "      <td>https://elementswellness.janeapp.com/#/staff_member/4/treatment/5</td>\n",
       "      <td>2019-03-08</td>\n",
       "      <td>Friday</td>\n",
       "      <td>2019-03-08</td>\n",
       "      <td>10:00</td>\n",
       "      <td>19:30</td>\n",
       "      <td>570</td>\n",
       "      <td>0</td>\n",
       "      <td>10.0</td>\n",
       "      <td>19.5</td>\n",
       "      <td>570.0</td>\n",
       "      <td>570</td>\n",
       "    </tr>\n",
       "  </tbody>\n",
       "</table>\n",
       "</div>"
      ],
      "text/plain": [
       "        Clinician  \\\n",
       "307  Alyssa Huang   \n",
       "\n",
       "                                                                   URL  \\\n",
       "307  https://elementswellness.janeapp.com/#/staff_member/4/treatment/5   \n",
       "\n",
       "          Today DayOfWeek        Date  Start    End  Duration  DaysAhead  \\\n",
       "307  2019-03-08    Friday  2019-03-08  10:00  19:30       570          0   \n",
       "\n",
       "     Open  Close  maxHours  WorkTime  \n",
       "307  10.0   19.5     570.0       570  "
      ]
     },
     "execution_count": 1038,
     "metadata": {},
     "output_type": "execute_result"
    }
   ],
   "source": [
    "dailyShiftX"
   ]
  },
  {
   "cell_type": "code",
   "execution_count": 1039,
   "metadata": {},
   "outputs": [
    {
     "data": {
      "text/html": [
       "<div>\n",
       "<style scoped>\n",
       "    .dataframe tbody tr th:only-of-type {\n",
       "        vertical-align: middle;\n",
       "    }\n",
       "\n",
       "    .dataframe tbody tr th {\n",
       "        vertical-align: top;\n",
       "    }\n",
       "\n",
       "    .dataframe thead th {\n",
       "        text-align: right;\n",
       "    }\n",
       "</style>\n",
       "<table border=\"1\" class=\"dataframe\">\n",
       "  <thead>\n",
       "    <tr style=\"text-align: right;\">\n",
       "      <th></th>\n",
       "      <th>Clinician</th>\n",
       "      <th>URL</th>\n",
       "      <th>Today</th>\n",
       "      <th>DayOfWeek</th>\n",
       "      <th>Date</th>\n",
       "      <th>Start</th>\n",
       "      <th>End</th>\n",
       "      <th>Duration</th>\n",
       "      <th>DaysAhead</th>\n",
       "    </tr>\n",
       "  </thead>\n",
       "  <tbody>\n",
       "    <tr>\n",
       "      <th>642</th>\n",
       "      <td>Alyssa Huang</td>\n",
       "      <td>https://elementswellness.janeapp.com/#/staff_member/4/treatment/5</td>\n",
       "      <td>2019-03-08</td>\n",
       "      <td>Friday</td>\n",
       "      <td>2019-03-08</td>\n",
       "      <td>10:00</td>\n",
       "      <td>11:00</td>\n",
       "      <td>60</td>\n",
       "      <td>0</td>\n",
       "    </tr>\n",
       "    <tr>\n",
       "      <th>643</th>\n",
       "      <td>Alyssa Huang</td>\n",
       "      <td>https://elementswellness.janeapp.com/#/staff_member/4/treatment/5</td>\n",
       "      <td>2019-03-08</td>\n",
       "      <td>Friday</td>\n",
       "      <td>2019-03-08</td>\n",
       "      <td>12:00</td>\n",
       "      <td>13:00</td>\n",
       "      <td>60</td>\n",
       "      <td>0</td>\n",
       "    </tr>\n",
       "    <tr>\n",
       "      <th>644</th>\n",
       "      <td>Alyssa Huang</td>\n",
       "      <td>https://elementswellness.janeapp.com/#/staff_member/4/treatment/5</td>\n",
       "      <td>2019-03-08</td>\n",
       "      <td>Friday</td>\n",
       "      <td>2019-03-08</td>\n",
       "      <td>13:00</td>\n",
       "      <td>14:00</td>\n",
       "      <td>60</td>\n",
       "      <td>0</td>\n",
       "    </tr>\n",
       "    <tr>\n",
       "      <th>645</th>\n",
       "      <td>Alyssa Huang</td>\n",
       "      <td>https://elementswellness.janeapp.com/#/staff_member/4/treatment/5</td>\n",
       "      <td>2019-03-08</td>\n",
       "      <td>Friday</td>\n",
       "      <td>2019-03-08</td>\n",
       "      <td>15:00</td>\n",
       "      <td>16:00</td>\n",
       "      <td>60</td>\n",
       "      <td>0</td>\n",
       "    </tr>\n",
       "    <tr>\n",
       "      <th>646</th>\n",
       "      <td>Alyssa Huang</td>\n",
       "      <td>https://elementswellness.janeapp.com/#/staff_member/4/treatment/5</td>\n",
       "      <td>2019-03-08</td>\n",
       "      <td>Friday</td>\n",
       "      <td>2019-03-08</td>\n",
       "      <td>16:00</td>\n",
       "      <td>17:00</td>\n",
       "      <td>60</td>\n",
       "      <td>0</td>\n",
       "    </tr>\n",
       "  </tbody>\n",
       "</table>\n",
       "</div>"
      ],
      "text/plain": [
       "        Clinician  \\\n",
       "642  Alyssa Huang   \n",
       "643  Alyssa Huang   \n",
       "644  Alyssa Huang   \n",
       "645  Alyssa Huang   \n",
       "646  Alyssa Huang   \n",
       "\n",
       "                                                                   URL  \\\n",
       "642  https://elementswellness.janeapp.com/#/staff_member/4/treatment/5   \n",
       "643  https://elementswellness.janeapp.com/#/staff_member/4/treatment/5   \n",
       "644  https://elementswellness.janeapp.com/#/staff_member/4/treatment/5   \n",
       "645  https://elementswellness.janeapp.com/#/staff_member/4/treatment/5   \n",
       "646  https://elementswellness.janeapp.com/#/staff_member/4/treatment/5   \n",
       "\n",
       "          Today DayOfWeek        Date  Start    End  Duration  DaysAhead  \n",
       "642  2019-03-08    Friday  2019-03-08  10:00  11:00        60          0  \n",
       "643  2019-03-08    Friday  2019-03-08  12:00  13:00        60          0  \n",
       "644  2019-03-08    Friday  2019-03-08  13:00  14:00        60          0  \n",
       "645  2019-03-08    Friday  2019-03-08  15:00  16:00        60          0  \n",
       "646  2019-03-08    Friday  2019-03-08  16:00  17:00        60          0  "
      ]
     },
     "execution_count": 1039,
     "metadata": {},
     "output_type": "execute_result"
    }
   ],
   "source": [
    "dailyOpenX"
   ]
  },
  {
   "cell_type": "code",
   "execution_count": 1027,
   "metadata": {
    "scrolled": true
   },
   "outputs": [
    {
     "data": {
      "text/html": [
       "<div>\n",
       "<style scoped>\n",
       "    .dataframe tbody tr th:only-of-type {\n",
       "        vertical-align: middle;\n",
       "    }\n",
       "\n",
       "    .dataframe tbody tr th {\n",
       "        vertical-align: top;\n",
       "    }\n",
       "\n",
       "    .dataframe thead th {\n",
       "        text-align: right;\n",
       "    }\n",
       "</style>\n",
       "<table border=\"1\" class=\"dataframe\">\n",
       "  <thead>\n",
       "    <tr style=\"text-align: right;\">\n",
       "      <th></th>\n",
       "      <th>Clinician</th>\n",
       "      <th>URL</th>\n",
       "      <th>Today</th>\n",
       "      <th>DayOfWeek</th>\n",
       "      <th>Date</th>\n",
       "      <th>Start</th>\n",
       "      <th>End</th>\n",
       "      <th>Duration</th>\n",
       "      <th>DaysAhead</th>\n",
       "    </tr>\n",
       "  </thead>\n",
       "  <tbody>\n",
       "    <tr>\n",
       "      <th>370</th>\n",
       "      <td>Chris Jeffrey</td>\n",
       "      <td>https://chris-jeffrey-acupuncture.janeapp.com/#/staff_member/1/treatment/3</td>\n",
       "      <td>2019-03-06</td>\n",
       "      <td>Wednesday</td>\n",
       "      <td>2019-03-06</td>\n",
       "      <td>09:00</td>\n",
       "      <td>10:15</td>\n",
       "      <td>75</td>\n",
       "      <td>0</td>\n",
       "    </tr>\n",
       "    <tr>\n",
       "      <th>371</th>\n",
       "      <td>Chris Jeffrey</td>\n",
       "      <td>https://chris-jeffrey-acupuncture.janeapp.com/#/staff_member/1/treatment/3</td>\n",
       "      <td>2019-03-06</td>\n",
       "      <td>Wednesday</td>\n",
       "      <td>2019-03-06</td>\n",
       "      <td>10:15</td>\n",
       "      <td>11:30</td>\n",
       "      <td>75</td>\n",
       "      <td>0</td>\n",
       "    </tr>\n",
       "    <tr>\n",
       "      <th>372</th>\n",
       "      <td>Chris Jeffrey</td>\n",
       "      <td>https://chris-jeffrey-acupuncture.janeapp.com/#/staff_member/1/treatment/3</td>\n",
       "      <td>2019-03-06</td>\n",
       "      <td>Wednesday</td>\n",
       "      <td>2019-03-06</td>\n",
       "      <td>16:00</td>\n",
       "      <td>17:15</td>\n",
       "      <td>75</td>\n",
       "      <td>0</td>\n",
       "    </tr>\n",
       "    <tr>\n",
       "      <th>373</th>\n",
       "      <td>Chris Jeffrey</td>\n",
       "      <td>https://chris-jeffrey-acupuncture.janeapp.com/#/staff_member/1/treatment/3</td>\n",
       "      <td>2019-03-06</td>\n",
       "      <td>Wednesday</td>\n",
       "      <td>2019-03-06</td>\n",
       "      <td>19:00</td>\n",
       "      <td>20:15</td>\n",
       "      <td>75</td>\n",
       "      <td>0</td>\n",
       "    </tr>\n",
       "    <tr>\n",
       "      <th>529</th>\n",
       "      <td>Chris Jeffrey</td>\n",
       "      <td>https://chris-jeffrey-acupuncture.janeapp.com/#/staff_member/1/treatment/3</td>\n",
       "      <td>2019-03-07</td>\n",
       "      <td>Thursday</td>\n",
       "      <td>2019-03-07</td>\n",
       "      <td>12:30</td>\n",
       "      <td>13:45</td>\n",
       "      <td>75</td>\n",
       "      <td>0</td>\n",
       "    </tr>\n",
       "    <tr>\n",
       "      <th>530</th>\n",
       "      <td>Chris Jeffrey</td>\n",
       "      <td>https://chris-jeffrey-acupuncture.janeapp.com/#/staff_member/1/treatment/3</td>\n",
       "      <td>2019-03-07</td>\n",
       "      <td>Thursday</td>\n",
       "      <td>2019-03-07</td>\n",
       "      <td>13:45</td>\n",
       "      <td>15:00</td>\n",
       "      <td>75</td>\n",
       "      <td>0</td>\n",
       "    </tr>\n",
       "    <tr>\n",
       "      <th>531</th>\n",
       "      <td>Chris Jeffrey</td>\n",
       "      <td>https://chris-jeffrey-acupuncture.janeapp.com/#/staff_member/1/treatment/3</td>\n",
       "      <td>2019-03-07</td>\n",
       "      <td>Thursday</td>\n",
       "      <td>2019-03-07</td>\n",
       "      <td>15:00</td>\n",
       "      <td>16:15</td>\n",
       "      <td>75</td>\n",
       "      <td>0</td>\n",
       "    </tr>\n",
       "    <tr>\n",
       "      <th>532</th>\n",
       "      <td>Chris Jeffrey</td>\n",
       "      <td>https://chris-jeffrey-acupuncture.janeapp.com/#/staff_member/1/treatment/3</td>\n",
       "      <td>2019-03-07</td>\n",
       "      <td>Thursday</td>\n",
       "      <td>2019-03-07</td>\n",
       "      <td>16:15</td>\n",
       "      <td>17:30</td>\n",
       "      <td>75</td>\n",
       "      <td>0</td>\n",
       "    </tr>\n",
       "    <tr>\n",
       "      <th>533</th>\n",
       "      <td>Chris Jeffrey</td>\n",
       "      <td>https://chris-jeffrey-acupuncture.janeapp.com/#/staff_member/1/treatment/3</td>\n",
       "      <td>2019-03-07</td>\n",
       "      <td>Thursday</td>\n",
       "      <td>2019-03-07</td>\n",
       "      <td>18:45</td>\n",
       "      <td>20:00</td>\n",
       "      <td>75</td>\n",
       "      <td>0</td>\n",
       "    </tr>\n",
       "    <tr>\n",
       "      <th>534</th>\n",
       "      <td>Chris Jeffrey</td>\n",
       "      <td>https://chris-jeffrey-acupuncture.janeapp.com/#/staff_member/1/treatment/3</td>\n",
       "      <td>2019-03-07</td>\n",
       "      <td>Thursday</td>\n",
       "      <td>2019-03-07</td>\n",
       "      <td>20:00</td>\n",
       "      <td>21:15</td>\n",
       "      <td>75</td>\n",
       "      <td>0</td>\n",
       "    </tr>\n",
       "    <tr>\n",
       "      <th>687</th>\n",
       "      <td>Chris Jeffrey</td>\n",
       "      <td>https://chris-jeffrey-acupuncture.janeapp.com/#/staff_member/1/treatment/3</td>\n",
       "      <td>2019-03-08</td>\n",
       "      <td>Friday</td>\n",
       "      <td>2019-03-08</td>\n",
       "      <td>12:15</td>\n",
       "      <td>13:30</td>\n",
       "      <td>75</td>\n",
       "      <td>0</td>\n",
       "    </tr>\n",
       "  </tbody>\n",
       "</table>\n",
       "</div>"
      ],
      "text/plain": [
       "         Clinician  \\\n",
       "370  Chris Jeffrey   \n",
       "371  Chris Jeffrey   \n",
       "372  Chris Jeffrey   \n",
       "373  Chris Jeffrey   \n",
       "529  Chris Jeffrey   \n",
       "530  Chris Jeffrey   \n",
       "531  Chris Jeffrey   \n",
       "532  Chris Jeffrey   \n",
       "533  Chris Jeffrey   \n",
       "534  Chris Jeffrey   \n",
       "687  Chris Jeffrey   \n",
       "\n",
       "                                                                            URL  \\\n",
       "370  https://chris-jeffrey-acupuncture.janeapp.com/#/staff_member/1/treatment/3   \n",
       "371  https://chris-jeffrey-acupuncture.janeapp.com/#/staff_member/1/treatment/3   \n",
       "372  https://chris-jeffrey-acupuncture.janeapp.com/#/staff_member/1/treatment/3   \n",
       "373  https://chris-jeffrey-acupuncture.janeapp.com/#/staff_member/1/treatment/3   \n",
       "529  https://chris-jeffrey-acupuncture.janeapp.com/#/staff_member/1/treatment/3   \n",
       "530  https://chris-jeffrey-acupuncture.janeapp.com/#/staff_member/1/treatment/3   \n",
       "531  https://chris-jeffrey-acupuncture.janeapp.com/#/staff_member/1/treatment/3   \n",
       "532  https://chris-jeffrey-acupuncture.janeapp.com/#/staff_member/1/treatment/3   \n",
       "533  https://chris-jeffrey-acupuncture.janeapp.com/#/staff_member/1/treatment/3   \n",
       "534  https://chris-jeffrey-acupuncture.janeapp.com/#/staff_member/1/treatment/3   \n",
       "687  https://chris-jeffrey-acupuncture.janeapp.com/#/staff_member/1/treatment/3   \n",
       "\n",
       "          Today  DayOfWeek        Date  Start    End  Duration  DaysAhead  \n",
       "370  2019-03-06  Wednesday  2019-03-06  09:00  10:15        75          0  \n",
       "371  2019-03-06  Wednesday  2019-03-06  10:15  11:30        75          0  \n",
       "372  2019-03-06  Wednesday  2019-03-06  16:00  17:15        75          0  \n",
       "373  2019-03-06  Wednesday  2019-03-06  19:00  20:15        75          0  \n",
       "529  2019-03-07   Thursday  2019-03-07  12:30  13:45        75          0  \n",
       "530  2019-03-07   Thursday  2019-03-07  13:45  15:00        75          0  \n",
       "531  2019-03-07   Thursday  2019-03-07  15:00  16:15        75          0  \n",
       "532  2019-03-07   Thursday  2019-03-07  16:15  17:30        75          0  \n",
       "533  2019-03-07   Thursday  2019-03-07  18:45  20:00        75          0  \n",
       "534  2019-03-07   Thursday  2019-03-07  20:00  21:15        75          0  \n",
       "687  2019-03-08     Friday  2019-03-08  12:15  13:30        75          0  "
      ]
     },
     "execution_count": 1027,
     "metadata": {},
     "output_type": "execute_result"
    }
   ],
   "source": [
    "dailyOpenings[dailyOpenings['Clinician']==clinicians[56]]"
   ]
  }
 ],
 "metadata": {
  "kernelspec": {
   "display_name": "Python 3",
   "language": "python",
   "name": "python3"
  },
  "language_info": {
   "codemirror_mode": {
    "name": "ipython",
    "version": 3
   },
   "file_extension": ".py",
   "mimetype": "text/x-python",
   "name": "python",
   "nbconvert_exporter": "python",
   "pygments_lexer": "ipython3",
   "version": "3.6.7"
  }
 },
 "nbformat": 4,
 "nbformat_minor": 2
}
