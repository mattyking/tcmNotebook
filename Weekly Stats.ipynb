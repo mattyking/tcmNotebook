{
 "cells": [
  {
   "cell_type": "code",
   "execution_count": null,
   "metadata": {},
   "outputs": [],
   "source": [
    "# Need to double check the appointment times\n",
    "# Comb through daily openings a couple days out, and confirm whether there\n",
    "# are overlapping shifts"
   ]
  },
  {
   "cell_type": "code",
   "execution_count": 2,
   "metadata": {},
   "outputs": [],
   "source": [
    "# Loading libraries\n",
    "import boto3\n",
    "import pandas as pd\n",
    "from io import StringIO\n",
    "from math import floor\n",
    "import matplotlib.pyplot as plt"
   ]
  },
  {
   "cell_type": "code",
   "execution_count": 3,
   "metadata": {},
   "outputs": [],
   "source": [
    "# Defining paths\n",
    "myBucket = 'tcmbooking'"
   ]
  },
  {
   "cell_type": "code",
   "execution_count": 4,
   "metadata": {},
   "outputs": [],
   "source": [
    "# Function which returns lists of errors, openings and shifts in s3 bucket\n",
    "def get_tcm_files(bucket):\n",
    "    \"\"\"Get a list of keys in an S3 bucket\"\"\"\n",
    "    errors = []\n",
    "    openings = []\n",
    "    shifts = []\n",
    "    \n",
    "    resp = s3.list_objects_v2(Bucket=bucket)\n",
    "    for x in resp['Contents']:\n",
    "        if \"error\" in x['Key']:\n",
    "            errors.append(x['Key'])\n",
    "        elif \"openings\" in x['Key']:\n",
    "            openings.append(x['Key'])\n",
    "        elif \"shifts\" in x['Key']:\n",
    "            shifts.append(x['Key'])\n",
    "        \n",
    "    return errors, openings, shifts"
   ]
  },
  {
   "cell_type": "code",
   "execution_count": 5,
   "metadata": {},
   "outputs": [],
   "source": [
    "# Getting list of files in s3 bucket\n",
    "s3 = boto3.client('s3')\n",
    "errors, openings, shifts = get_tcm_files(myBucket)"
   ]
  },
  {
   "cell_type": "code",
   "execution_count": 142,
   "metadata": {},
   "outputs": [],
   "source": [
    "# Creating data frame of the openings\n",
    "dailyOpenings = pd.DataFrame()\n",
    "\n",
    "for x in openings:\n",
    "    # Reading in data from s3\n",
    "    csv_obj = s3.get_object(Bucket=myBucket, Key=x)\n",
    "    body = csv_obj['Body']\n",
    "    csv_string = body.read().decode('utf-8')\n",
    "    df = pd.read_csv(StringIO(csv_string))\n",
    "    \n",
    "    # Selecting only same day data\n",
    "    df = df.loc[df['DaysAhead']==0]\n",
    "    dailyOpenings = dailyOpenings.append(df, ignore_index=True)\n",
    "    \n",
    "dailyOpenings.drop_duplicates(inplace=True)"
   ]
  },
  {
   "cell_type": "code",
   "execution_count": 143,
   "metadata": {},
   "outputs": [],
   "source": [
    "# Creating data frame of the shifts\n",
    "dailyShifts = pd.DataFrame()\n",
    "\n",
    "for x in shifts:\n",
    "    # Reading in data from s3\n",
    "    csv_obj = s3.get_object(Bucket=myBucket, Key=x)\n",
    "    body = csv_obj['Body']\n",
    "    csv_string = body.read().decode('utf-8')\n",
    "    df = pd.read_csv(StringIO(csv_string))\n",
    "    \n",
    "    # Selecting only same day data\n",
    "    df = df.loc[df['DaysAhead']==0]\n",
    "    dailyShifts = dailyShifts.append(df, ignore_index=True)\n",
    "    \n",
    "dailyShifts.drop_duplicates(inplace=True)"
   ]
  },
  {
   "cell_type": "code",
   "execution_count": 144,
   "metadata": {},
   "outputs": [],
   "source": [
    "# Getting the opening time\n",
    "dailyShifts['StartH'] = dailyShifts['Start'].str[:2]\n",
    "dailyShifts['StartM'] = dailyShifts['Start'].str[3:]\n",
    "dailyShifts['StartH'] = dailyShifts.StartH.astype(float)\n",
    "dailyShifts['StartM'] = dailyShifts.StartM.astype(float)\n",
    "dailyShifts['StartM'] = dailyShifts['StartM'] / 60\n",
    "dailyShifts['Open']  = dailyShifts['StartH'] + dailyShifts['StartM']\n",
    "dailyShifts = dailyShifts.drop(['StartH', 'StartM'], axis = 1)"
   ]
  },
  {
   "cell_type": "code",
   "execution_count": 145,
   "metadata": {},
   "outputs": [],
   "source": [
    "# Getting the closing time\n",
    "dailyShifts['CloseH'] = dailyShifts['End'].str[:2]\n",
    "dailyShifts['CloseM'] = dailyShifts['End'].str[3:]\n",
    "dailyShifts['CloseH'] = dailyShifts.CloseH.astype(float)\n",
    "dailyShifts['CloseM'] = dailyShifts.CloseM.astype(float)\n",
    "dailyShifts['CloseM'] = dailyShifts['CloseM'] / 60\n",
    "dailyShifts['Close']  = dailyShifts['CloseH'] + dailyShifts['CloseM']\n",
    "dailyShifts = dailyShifts.drop(['CloseH', 'CloseM'], axis = 1)"
   ]
  },
  {
   "cell_type": "code",
   "execution_count": 146,
   "metadata": {},
   "outputs": [],
   "source": [
    "# Getting the open hours per day\n",
    "openHours = dailyShifts.groupby(['URL', 'Date'], as_index=False).agg({\"Open\":\"min\", \"Close\":\"max\"})\n",
    "openHours['maxHours'] = (openHours['Close'] - openHours['Open'])*60\n",
    "openHours = openHours.drop(['Open', 'Close'], axis = 1)"
   ]
  },
  {
   "cell_type": "code",
   "execution_count": 147,
   "metadata": {},
   "outputs": [
    {
     "name": "stdout",
     "output_type": "stream",
     "text": [
      "Number of rows pre-merge: 658\n",
      "Number of rows pre-merge: 658\n"
     ]
    }
   ],
   "source": [
    "# Joining max hours to the daily shifts data frame\n",
    "print('Number of rows pre-merge: ' + str(dailyShifts.shape[0]))\n",
    "dailyShifts = dailyShifts.merge(openHours, on = ['URL', 'Date'], how='left', right_index=False)\n",
    "print('Number of rows pre-merge: ' + str(dailyShifts.shape[0]))"
   ]
  },
  {
   "cell_type": "code",
   "execution_count": 148,
   "metadata": {},
   "outputs": [],
   "source": [
    "# Function to choose the shift duration to be used in future calculations\n",
    "def getHours(row):\n",
    "    if row['Duration'] > row['maxHours']:\n",
    "        val = row['maxHours']\n",
    "    else:\n",
    "        val = row['Duration']\n",
    "        \n",
    "    return val"
   ]
  },
  {
   "cell_type": "code",
   "execution_count": 149,
   "metadata": {},
   "outputs": [],
   "source": [
    "dailyShifts['WorkTime'] = dailyShifts.apply(getHours, axis = 1)"
   ]
  },
  {
   "cell_type": "code",
   "execution_count": 150,
   "metadata": {},
   "outputs": [],
   "source": [
    "# Aggregating shifts and openings\n",
    "shifts_agg = dailyShifts.groupby(['Clinician', 'Date'], as_index=False).agg({\"URL\": \"first\", \"WorkTime\": \"sum\"})\n",
    "openings_agg = dailyOpenings.groupby(['Clinician', 'Date'], as_index=False).agg({\"URL\": \"first\", \"Duration\": \"sum\", \"DaysAhead\": \"count\"})\n",
    "\n",
    "# Renaming columns to eliminate duplicates\n",
    "shifts_agg.columns = ['Clinician', 'Date', 'URL', 'ShiftTime']\n",
    "openings_agg.columns = ['Clinician', 'Date', 'URL', 'OpenTime', 'OpenSlots']"
   ]
  },
  {
   "cell_type": "code",
   "execution_count": 151,
   "metadata": {},
   "outputs": [
    {
     "name": "stdout",
     "output_type": "stream",
     "text": [
      "Number of rows pre-merge: 421\n",
      "Number of rows post-merge: 421\n"
     ]
    }
   ],
   "source": [
    "# Merging shifts and openings data frames\n",
    "print('Number of rows pre-merge: ' + str(shifts_agg.shape[0]))\n",
    "daily = shifts_agg.merge(openings_agg, on = ['Clinician', 'URL', 'Date'], how='left', right_index=False)\n",
    "daily['OpenTime'] = daily['OpenTime'].fillna(0)\n",
    "daily['OpenSlots'] = daily['OpenSlots'].fillna(0)\n",
    "print('Number of rows post-merge: ' + str(daily.shape[0]))"
   ]
  },
  {
   "cell_type": "code",
   "execution_count": 152,
   "metadata": {
    "scrolled": true
   },
   "outputs": [],
   "source": [
    "# Getting price data\n",
    "prices = pd.read_csv('/home/ubuntu/getTCM/jane_url.csv')\n",
    "prices.columns = ['Clinic', 'Clinician', 'URL', 'Location', 'Cost', 'ApTime', 'Area']\n",
    "prices['ApTime'] = prices['ApTime'].fillna(60)\n",
    "prices = prices.drop(['Clinician'], axis=1)"
   ]
  },
  {
   "cell_type": "code",
   "execution_count": 153,
   "metadata": {},
   "outputs": [
    {
     "name": "stdout",
     "output_type": "stream",
     "text": [
      "Number of rows post-merge:  421\n"
     ]
    }
   ],
   "source": [
    "# Joining data frames\n",
    "daily = daily.merge(prices, on = 'URL', how='left', right_index=False)\n",
    "daily.drop_duplicates(inplace=True)\n",
    "print('Number of rows post-merge: ', str(daily.shape[0]))"
   ]
  },
  {
   "cell_type": "code",
   "execution_count": 154,
   "metadata": {},
   "outputs": [
    {
     "name": "stdout",
     "output_type": "stream",
     "text": [
      "Number of rows post-merge:  421\n"
     ]
    }
   ],
   "source": [
    "# Joining data frames\n",
    "daily = daily.merge(openHours, on = ['URL', 'Date'], how='left', right_index=False)\n",
    "daily.drop_duplicates(inplace=True)\n",
    "print('Number of rows post-merge: ', str(daily.shape[0]))"
   ]
  },
  {
   "cell_type": "code",
   "execution_count": 155,
   "metadata": {
    "scrolled": true
   },
   "outputs": [],
   "source": [
    "daily['Duration'] = daily['ShiftTime']\n",
    "daily['ShiftTime'] = daily.apply(getHours, axis = 1)\n",
    "daily = daily.drop(['Duration', 'maxHours'], axis=1)"
   ]
  },
  {
   "cell_type": "code",
   "execution_count": 156,
   "metadata": {},
   "outputs": [],
   "source": [
    "# Estimating revenue\n",
    "daily['AllSlots'] = daily['ShiftTime'] / daily['ApTime']\n",
    "daily = daily.round({'Bookings': 0})\n",
    "\n",
    "daily['AllSlots'] = daily['ShiftTime'] / daily['ApTime']\n",
    "daily['AllSlots'] = daily.AllSlots.apply(floor)\n",
    "daily['BookedSlots'] = daily['AllSlots'] - daily['OpenSlots']\n",
    "daily['DailyRevenue'] = daily['BookedSlots'] * daily['Cost']"
   ]
  },
  {
   "cell_type": "code",
   "execution_count": 157,
   "metadata": {},
   "outputs": [],
   "source": [
    "# Calculating week number\n",
    "daily['Week'] = pd.to_datetime(daily['Date'])\n",
    "daily['Week'] = daily['Week'].dt.week"
   ]
  },
  {
   "cell_type": "code",
   "execution_count": 160,
   "metadata": {},
   "outputs": [],
   "source": [
    "# Aggregating shifts and openings\n",
    "weekly_agg = daily.groupby(['Week', 'Area'], as_index=False).agg({\"Date\": \"first\", \"AllSlots\": \"sum\", \"BookedSlots\":\"sum\", \"DailyRevenue\":\"sum\", \"ShiftTime\":\"sum\", \"Clinician\": pd.Series.nunique})\n",
    "weekly_agg['FillRate'] = weekly_agg['BookedSlots']/weekly_agg['AllSlots']\n",
    "weekly_agg['FillRate'] =100*weekly_agg['FillRate']\n",
    "weekly_agg['FillRate'] = weekly_agg.FillRate.apply(floor)\n",
    "weekly_agg['ShiftTime'] = round(weekly_agg['ShiftTime'] / 60, 1)\n",
    "weekly_agg['AvgRevenue'] = weekly_agg['DailyRevenue'] / weekly_agg['Clinician']\n",
    "weekly_agg['AvgRevenue'] = weekly_agg.AvgRevenue.apply(floor)\n",
    "weekly_agg['HrRevenue'] = round(weekly_agg['DailyRevenue'] / weekly_agg['ShiftTime'],0)\n",
    "weekly_agg.columns = ['Week', 'Area', 'Date', 'AllSlots', 'BookedSlots','WeeklyRevenue','WeeklyHrs', 'nPractitioner', 'FillRate', 'AvgRevenue', 'RevPerHr']"
   ]
  },
  {
   "cell_type": "code",
   "execution_count": 161,
   "metadata": {},
   "outputs": [],
   "source": [
    "# Creating industry averages\n",
    "industry_agg = daily.groupby(['Week'], as_index=False).agg({\"Date\": \"first\", \"AllSlots\": \"sum\", \"BookedSlots\":\"sum\", \"DailyRevenue\":\"sum\", \"ShiftTime\":\"sum\", \"Clinician\": pd.Series.nunique})\n",
    "industry_agg['FillRate'] = industry_agg['BookedSlots']/industry_agg['AllSlots']\n",
    "industry_agg['FillRate'] =100*industry_agg['FillRate']\n",
    "industry_agg['FillRate'] = industry_agg.FillRate.apply(floor)\n",
    "industry_agg['ShiftTime'] = round(industry_agg['ShiftTime'] / 60, 1)\n",
    "industry_agg['AvgRevenue'] = industry_agg['DailyRevenue'] / industry_agg['Clinician']\n",
    "industry_agg['AvgRevenue'] = industry_agg.AvgRevenue.apply(floor)\n",
    "industry_agg['HrRevenue'] = round(industry_agg['DailyRevenue'] / industry_agg['ShiftTime'],0)\n",
    "industry_agg.columns = ['Week', 'Date', 'AllSlots', 'BookedSlots','WeeklyRevenue','WeeklyHrs', 'nPractitioner', 'FillRate', 'AvgRevenue', 'RevPerHr']\n",
    "industry_agg['Area'] = 'All'\n",
    "industry_agg = industry_agg[['Week', 'Area', 'Date', 'AllSlots', 'BookedSlots','WeeklyRevenue','WeeklyHrs', 'nPractitioner', 'FillRate', 'AvgRevenue', 'RevPerHr']]"
   ]
  },
  {
   "cell_type": "code",
   "execution_count": 162,
   "metadata": {},
   "outputs": [],
   "source": [
    "# Appending aggregated data frames\n",
    "weekly_agg = weekly_agg.append(industry_agg, ignore_index = True)"
   ]
  },
  {
   "cell_type": "code",
   "execution_count": 163,
   "metadata": {},
   "outputs": [],
   "source": [
    "# Function to choose the shift duration to be used in future calculations\n",
    "def getStartOfWeek(weekNo):\n",
    "    x = datetime.datetime.strptime('2019-W' + str(weekNo) + '-1', '%Y-W%W-%w').strftime('%Y-%m-%d')\n",
    "    return x"
   ]
  },
  {
   "cell_type": "code",
   "execution_count": 164,
   "metadata": {},
   "outputs": [],
   "source": [
    "weekly_agg['Date'] = weekly_agg.Week.apply(getStartOfWeek)\n",
    "weekly_agg = weekly_agg[weekly_agg['Week']>9]"
   ]
  },
  {
   "cell_type": "code",
   "execution_count": 165,
   "metadata": {},
   "outputs": [],
   "source": [
    "# Creating pivoted data frames\n",
    "fill_pivot = weekly_agg.drop(['Week', 'AllSlots','BookedSlots','WeeklyRevenue', 'nPractitioner', 'AvgRevenue'], axis=1).pivot(index=\"Date\", columns = \"Area\", values = \"FillRate\")\n",
    "fill_pivot = fill_pivot.reset_index()\n",
    "\n",
    "revenue_pivot = weekly_agg.drop(['Week', 'AllSlots','BookedSlots','WeeklyRevenue', 'nPractitioner', 'FillRate'], axis=1).pivot(index=\"Date\", columns = \"Area\", values = \"RevPerHr\")\n",
    "revenue_pivot = revenue_pivot.reset_index()"
   ]
  },
  {
   "cell_type": "code",
   "execution_count": 166,
   "metadata": {},
   "outputs": [
    {
     "data": {
      "image/png": "[encoded data removed]",
      "text/plain": [
       "<Figure size 432x288 with 1 Axes>"
      ]
     },
     "metadata": {},
     "output_type": "display_data"
    }
   ],
   "source": [
    "# Plotting fill rates\n",
    "labels = ['All', 'Downtown', 'Metrotown']\n",
    "line_chart1 = plt.plot(fill_pivot.Date, fill_pivot.All, marker=\"D\", linewidth = 2, color = 'r')\n",
    "line_chart1 = plt.plot(fill_pivot.Date, fill_pivot.Downtown, marker=\"o\", color = 'grey', label = 'Downtown', linestyle = '--')\n",
    "line_chart1 = plt.plot(fill_pivot.Date, fill_pivot.Metrotown, marker=\"o\", color = 'grey', linestyle = ':')\n",
    "plt.title('Fill Rates')\n",
    "plt.xlabel('Week')\n",
    "plt.ylabel('Fill Rate %')\n",
    "plt.ylim(0, 100)\n",
    "plt.legend(labels, loc=4)\n",
    "plt.show()"
   ]
  },
  {
   "cell_type": "code",
   "execution_count": 167,
   "metadata": {},
   "outputs": [
    {
     "data": {
      "image/png": "[encoded data removed]",
      "text/plain": [
       "<Figure size 432x288 with 1 Axes>"
      ]
     },
     "metadata": {},
     "output_type": "display_data"
    }
   ],
   "source": [
    "# Plotting fill rates\n",
    "line_chart1 = plt.plot(fill_pivot.Date, revenue_pivot.All, marker=\"D\", linewidth = 2, color = 'r')\n",
    "line_chart1 = plt.plot(revenue_pivot.Date, revenue_pivot.Downtown, marker=\"o\", color = 'grey', linestyle = '--')\n",
    "line_chart1 = plt.plot(revenue_pivot.Date, revenue_pivot.Metrotown, marker=\"o\", color = 'grey', linestyle = ':')\n",
    "plt.title('Average Revenue per Shift Hour')\n",
    "plt.xlabel('Week')\n",
    "plt.ylabel('Revenue $')\n",
    "plt.ylim(0, 150)\n",
    "plt.legend(['All', 'Downtown', 'Metrotown'], loc=4)\n",
    "plt.show()"
   ]
  },
  {
   "cell_type": "code",
   "execution_count": 194,
   "metadata": {},
   "outputs": [],
   "source": [
    "# Aggregating revenue by clinician\n",
    "clinician_agg = daily.groupby(['Week', 'Clinician'], as_index=False).agg({\"DailyRevenue\":\"sum\", \"ShiftTime\":\"sum\", \"BookedSlots\":\"sum\", \"AllSlots\":\"sum\"})\n",
    "clinician_agg = clinician_agg.sort_values(by=['Week', 'DailyRevenue'], ascending=[1,0])\n",
    "clinician_agg.reset_index(inplace=True, drop = True)"
   ]
  },
  {
   "cell_type": "code",
   "execution_count": 195,
   "metadata": {},
   "outputs": [],
   "source": [
    "# Creating KPIs\n",
    "clinician_agg['RevPerHour'] = 60 * (clinician_agg['DailyRevenue'] / clinician_agg['ShiftTime'])\n",
    "clinician_agg['RevPerHour'] = clinician_agg.RevPerHour.apply(floor)\n",
    "clinician_agg['FillRate'] = 100*round(clinician_agg['BookedSlots']/clinician_agg['AllSlots'], 2)\n",
    "clinician_agg = clinician_agg.drop(['ShiftTime', 'BookedSlots', 'AllSlots'], axis=1)"
   ]
  },
  {
   "cell_type": "code",
   "execution_count": 196,
   "metadata": {},
   "outputs": [
    {
     "name": "stderr",
     "output_type": "stream",
     "text": [
      "/usr/lib/python3/dist-packages/ipykernel_launcher.py:7: SettingWithCopyWarning: \n",
      "A value is trying to be set on a copy of a slice from a DataFrame\n",
      "\n",
      "See the caveats in the documentation: http://pandas.pydata.org/pandas-docs/stable/indexing.html#indexing-view-versus-copy\n",
      "  import sys\n"
     ]
    }
   ],
   "source": [
    "# Creating ranks\n",
    "clinician_agg['Rank'] = 1\n",
    "w0 = clinician_agg.Week[0]\n",
    "for index, row in clinician_agg.iterrows():\n",
    "        w1 = row.Week\n",
    "        if ((w1 == w0) & (index != 0)):\n",
    "            clinician_agg.Rank[index] = clinician_agg.Rank[index-1] + 1\n",
    "        w0 = w1"
   ]
  },
  {
   "cell_type": "code",
   "execution_count": 202,
   "metadata": {},
   "outputs": [],
   "source": [
    "# Creating top ten list\n",
    "this_week = clinician_agg[clinician_agg['Week'] == clinician_agg.Week.max()]\n",
    "last_week = clinician_agg[clinician_agg['Week'] == (clinician_agg.Week.max() - 1)]\n",
    "last_week = last_week.drop(['Week', 'DailyRevenue','RevPerHour','FillRate'], axis = 1)\n",
    "this_week = this_week.drop('Week', axis = 1)\n",
    "last_week.columns = ['Clinician', 'LastWeek']\n",
    "this_week.columns = ['Clinician', 'Revenue', 'RevPerHour', 'FillRate', 'ThisWeek']\n",
    "this_week = this_week.merge(last_week, on = ['Clinician'], how='left', right_index = False)\n",
    "this_week['Revenue'] = this_week['Revenue'].apply(floor)"
   ]
  },
  {
   "cell_type": "code",
   "execution_count": 204,
   "metadata": {},
   "outputs": [
    {
     "data": {
      "text/html": [
       "<div>\n",
       "<style scoped>\n",
       "    .dataframe tbody tr th:only-of-type {\n",
       "        vertical-align: middle;\n",
       "    }\n",
       "\n",
       "    .dataframe tbody tr th {\n",
       "        vertical-align: top;\n",
       "    }\n",
       "\n",
       "    .dataframe thead th {\n",
       "        text-align: right;\n",
       "    }\n",
       "</style>\n",
       "<table border=\"1\" class=\"dataframe\">\n",
       "  <thead>\n",
       "    <tr style=\"text-align: right;\">\n",
       "      <th></th>\n",
       "      <th>Clinician</th>\n",
       "      <th>Revenue</th>\n",
       "      <th>RevPerHour</th>\n",
       "      <th>FillRate</th>\n",
       "      <th>ThisWeek</th>\n",
       "      <th>LastWeek</th>\n",
       "    </tr>\n",
       "  </thead>\n",
       "  <tbody>\n",
       "    <tr>\n",
       "      <th>0</th>\n",
       "      <td>Dr. Byoung Jin NA</td>\n",
       "      <td>6160</td>\n",
       "      <td>194</td>\n",
       "      <td>90.0</td>\n",
       "      <td>1</td>\n",
       "      <td>1</td>\n",
       "    </tr>\n",
       "    <tr>\n",
       "      <th>1</th>\n",
       "      <td>Dr. Ryan Funk</td>\n",
       "      <td>4940</td>\n",
       "      <td>161</td>\n",
       "      <td>85.0</td>\n",
       "      <td>2</td>\n",
       "      <td>4</td>\n",
       "    </tr>\n",
       "    <tr>\n",
       "      <th>2</th>\n",
       "      <td>Bronwyn Melville</td>\n",
       "      <td>4750</td>\n",
       "      <td>163</td>\n",
       "      <td>86.0</td>\n",
       "      <td>3</td>\n",
       "      <td>6</td>\n",
       "    </tr>\n",
       "    <tr>\n",
       "      <th>3</th>\n",
       "      <td>Kathleen Lee</td>\n",
       "      <td>4180</td>\n",
       "      <td>154</td>\n",
       "      <td>81.0</td>\n",
       "      <td>4</td>\n",
       "      <td>10</td>\n",
       "    </tr>\n",
       "    <tr>\n",
       "      <th>4</th>\n",
       "      <td>Kelli Taylor</td>\n",
       "      <td>3990</td>\n",
       "      <td>204</td>\n",
       "      <td>100.0</td>\n",
       "      <td>5</td>\n",
       "      <td>7</td>\n",
       "    </tr>\n",
       "    <tr>\n",
       "      <th>5</th>\n",
       "      <td>Dr. Jie (Janet) Yu</td>\n",
       "      <td>3835</td>\n",
       "      <td>95</td>\n",
       "      <td>74.0</td>\n",
       "      <td>6</td>\n",
       "      <td>3</td>\n",
       "    </tr>\n",
       "    <tr>\n",
       "      <th>6</th>\n",
       "      <td>Tedi Fisher</td>\n",
       "      <td>3808</td>\n",
       "      <td>224</td>\n",
       "      <td>100.0</td>\n",
       "      <td>7</td>\n",
       "      <td>16</td>\n",
       "    </tr>\n",
       "    <tr>\n",
       "      <th>7</th>\n",
       "      <td>Hoon il (Melanie) Kwak</td>\n",
       "      <td>3600</td>\n",
       "      <td>200</td>\n",
       "      <td>100.0</td>\n",
       "      <td>8</td>\n",
       "      <td>2</td>\n",
       "    </tr>\n",
       "    <tr>\n",
       "      <th>8</th>\n",
       "      <td>Allison Locke</td>\n",
       "      <td>3515</td>\n",
       "      <td>156</td>\n",
       "      <td>82.0</td>\n",
       "      <td>9</td>\n",
       "      <td>11</td>\n",
       "    </tr>\n",
       "    <tr>\n",
       "      <th>9</th>\n",
       "      <td>Dr. Brad Matthews</td>\n",
       "      <td>3420</td>\n",
       "      <td>150</td>\n",
       "      <td>84.0</td>\n",
       "      <td>10</td>\n",
       "      <td>9</td>\n",
       "    </tr>\n",
       "  </tbody>\n",
       "</table>\n",
       "</div>"
      ],
      "text/plain": [
       "                Clinician  Revenue  RevPerHour  FillRate  ThisWeek  LastWeek\n",
       "0       Dr. Byoung Jin NA     6160         194      90.0         1         1\n",
       "1           Dr. Ryan Funk     4940         161      85.0         2         4\n",
       "2        Bronwyn Melville     4750         163      86.0         3         6\n",
       "3            Kathleen Lee     4180         154      81.0         4        10\n",
       "4            Kelli Taylor     3990         204     100.0         5         7\n",
       "5      Dr. Jie (Janet) Yu     3835          95      74.0         6         3\n",
       "6             Tedi Fisher     3808         224     100.0         7        16\n",
       "7  Hoon il (Melanie) Kwak     3600         200     100.0         8         2\n",
       "8           Allison Locke     3515         156      82.0         9        11\n",
       "9       Dr. Brad Matthews     3420         150      84.0        10         9"
      ]
     },
     "execution_count": 204,
     "metadata": {},
     "output_type": "execute_result"
    }
   ],
   "source": [
    "this_week.head(n=10)"
   ]
  },
  {
   "cell_type": "code",
   "execution_count": 210,
   "metadata": {},
   "outputs": [
    {
     "name": "stdout",
     "output_type": "stream",
     "text": [
      "Capacity: 4282\n",
      "Bookings: 2938\n",
      "Fill Rate: 68.6%\n",
      "Avg Revenue: $3683\n"
     ]
    }
   ],
   "source": [
    "# Calculating KPIs\n",
    "capacity = round(pd.Series(daily['AllSlots']).sum(),0)\n",
    "bookings = round(pd.Series(daily['BookedSlots']).sum(),0)\n",
    "fillRate = 100*round(bookings/capacity,3)\n",
    "revenue = pd.Series(daily['DailyRevenue']).sum()\n",
    "nPractitioner = len(daily.Clinician.unique())\n",
    "avgRevenue = round(revenue / nPractitioner, 0)\n",
    "print(\"Capacity: \" + \"{:.0f}\".format(capacity))\n",
    "print(\"Bookings: \" + \"{:.0f}\".format(bookings))\n",
    "print(\"Fill Rate: \" + \"{:.1f}\".format(fillRate) + \"%\")\n",
    "print(\"Avg Revenue: $\" + \"{:.0f}\".format(avgRevenue))"
   ]
  }
 ],
 "metadata": {
  "kernelspec": {
   "display_name": "Python 3",
   "language": "python",
   "name": "python3"
  },
  "language_info": {
   "codemirror_mode": {
    "name": "ipython",
    "version": 3
   },
   "file_extension": ".py",
   "mimetype": "text/x-python",
   "name": "python",
   "nbconvert_exporter": "python",
   "pygments_lexer": "ipython3",
   "version": "3.6.7"
  }
 },
 "nbformat": 4,
 "nbformat_minor": 2
}
